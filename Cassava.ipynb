{
 "cells": [
  {
   "cell_type": "code",
   "execution_count": null,
   "id": "aea4dbf5-f43c-4c0b-89c8-d807910c2b78",
   "metadata": {},
   "outputs": [],
   "source": [
    "pip install tensorflow pandas numpy matplotlib scikit-learn\n"
   ]
  },
  {
   "cell_type": "code",
   "execution_count": null,
   "id": "56d07573-fd29-445f-a429-bca15345dbf0",
   "metadata": {},
   "outputs": [],
   "source": [
    "\n",
    "import os\n",
    "import numpy as np\n",
    "import pandas as pd\n",
    "import matplotlib.pyplot as plt\n",
    "import tensorflow as tf\n",
    "from tensorflow import keras\n",
    "from tensorflow.keras import layers\n",
    "from sklearn.model_selection import train_test_split\n",
    "from sklearn.preprocessing import LabelEncoder\n",
    "from tensorflow.keras.preprocessing.image import ImageDataGenerator"
   ]
  },
  {
   "cell_type": "code",
   "execution_count": null,
   "id": "7e8ced09-ffc8-4176-8bec-e686e6fcf98a",
   "metadata": {},
   "outputs": [],
   "source": [
    "\n",
    "csv_file_path = 'C:/Users/Suvodeep Banerjee/Downloads/train.csv'\n",
    "train_image_dir = 'C:/Users/Suvodeep Banerjee/Downloads/train_images/'\n",
    "test_image_dir = 'C:/Users/Suvodeep Banerjee/Downloads/test_images/'\n",
    "train_tfrecords_dir = 'C:/Users/Suvodeep Banerjee/Downloads/train_tfrecords/'\n"
   ]
  },
  {
   "cell_type": "code",
   "execution_count": 6,
   "id": "4f37e7cf-a499-4398-bd79-48ad6703701a",
   "metadata": {},
   "outputs": [],
   "source": [
    "label_mapping = {\n",
    "    0: \"Cassava Bacterial Blight (CBB)\",\n",
    "    1: \"Cassava Brown Streak Disease (CBSD)\",\n",
    "    2: \"Cassava Green Mottle (CGM)\",\n",
    "    3: \"Cassava Mosaic Disease (CMD)\",\n",
    "    4: \"Healthy\"\n",
    "}"
   ]
  },
  {
   "cell_type": "code",
   "execution_count": 7,
   "id": "28537859-1bd2-430b-94bc-c757c4bbce22",
   "metadata": {},
   "outputs": [],
   "source": [
    "\n",
    "df = pd.read_csv(csv_file_path)\n",
    "df['image_path'] = df['image_id'].apply(lambda x: os.path.join(train_image_dir, x))\n",
    "images = df['image_path'].values\n",
    "labels = df['label'].values\n"
   ]
  },
  {
   "cell_type": "code",
   "execution_count": 47,
   "id": "70f953b8-e857-422e-9c10-31be743063b9",
   "metadata": {},
   "outputs": [],
   "source": [
    "\n",
    "le = LabelEncoder()\n",
    "labels_encoded = le.fit_transform(labels)\n",
    "\n",
    "\n",
    "train_df = pd.DataFrame({\n",
    "    'image_path': X_train,\n",
    "    'label': y_train\n",
    "})\n",
    "\n",
    "val_df = pd.DataFrame({\n",
    "    'image_path': X_val,\n",
    "    'label': y_val\n",
    "})\n"
   ]
  },
  {
   "cell_type": "code",
   "execution_count": 67,
   "id": "e32f88db-a7de-43f5-8e15-da5d7499acb8",
   "metadata": {},
   "outputs": [],
   "source": [
    "\n",
    "train_datagen = ImageDataGenerator(\n",
    "    rescale=1.0/255.0,\n",
    "    rotation_range=20,\n",
    "    width_shift_range=0.2,\n",
    "    height_shift_range=0.2,\n",
    "    shear_range=0.2,\n",
    "    zoom_range=0.2,\n",
    "    horizontal_flip=True,\n",
    "    fill_mode='nearest'\n",
    ")"
   ]
  },
  {
   "cell_type": "code",
   "execution_count": 49,
   "id": "72093734-fdca-4de0-9df9-368a56623079",
   "metadata": {},
   "outputs": [],
   "source": [
    "val_datagen = ImageDataGenerator(rescale=1.0/255.0)"
   ]
  },
  {
   "cell_type": "code",
   "execution_count": 50,
   "id": "f1891b33-bc09-42d4-b4d6-be50d46da6f2",
   "metadata": {},
   "outputs": [],
   "source": [
    "\n",
    "df['label'] = df['label'].astype(str)"
   ]
  },
  {
   "cell_type": "code",
   "execution_count": 51,
   "id": "c0a423be-9651-4f3f-a766-ca15a9a0847d",
   "metadata": {},
   "outputs": [],
   "source": [
    "\n",
    "images = df['image_path'].values\n",
    "labels = df['label'].values\n"
   ]
  },
  {
   "cell_type": "code",
   "execution_count": 52,
   "id": "8b0e53db-c347-4c2d-8167-dcce11135d76",
   "metadata": {},
   "outputs": [],
   "source": [
    "# Data Preprocessing and Augmentation\n",
    "train_datagen = ImageDataGenerator(\n",
    "    rescale=1.0/255.0,\n",
    "    rotation_range=20,\n",
    "    width_shift_range=0.2,\n",
    "    height_shift_range=0.2,\n",
    "    shear_range=0.2,\n",
    "    zoom_range=0.2,\n",
    "    horizontal_flip=True,\n",
    "    fill_mode='nearest'\n",
    ")\n",
    "\n",
    "val_datagen = ImageDataGenerator(rescale=1.0/255.0)"
   ]
  },
  {
   "cell_type": "code",
   "execution_count": 54,
   "id": "24c44630-9295-432f-a3c0-4ee234e38754",
   "metadata": {},
   "outputs": [
    {
     "name": "stdout",
     "output_type": "stream",
     "text": [
      "Found 17117 validated image filenames belonging to 5 classes.\n",
      "Found 4280 validated image filenames belonging to 5 classes.\n"
     ]
    }
   ],
   "source": [
    "# Train generator\n",
    "train_generator = train_datagen.flow_from_dataframe(\n",
    "    dataframe=train_df, \n",
    "    x_col='image_path',\n",
    "    y_col='label',\n",
    "    target_size=(128, 128),\n",
    "    batch_size=32,\n",
    "    class_mode='categorical',\n",
    "    shuffle=True\n",
    ")\n",
    "\n",
    "# Validation generator\n",
    "val_generator = val_datagen.flow_from_dataframe(\n",
    "    dataframe=val_df,  \n",
    "    x_col='image_path',\n",
    "    y_col='label',\n",
    "    target_size=(128, 128),\n",
    "    batch_size=32,\n",
    "    class_mode='categorical',\n",
    "    shuffle=False\n",
    ")\n"
   ]
  },
  {
   "cell_type": "code",
   "execution_count": 55,
   "id": "f7d5dfba-e068-496c-9aa5-6b26262df010",
   "metadata": {},
   "outputs": [],
   "source": [
    "#CNN Model\n",
    "model = keras.Sequential([\n",
    "    layers.Input(shape=(128, 128, 3)),  \n",
    "    layers.Conv2D(32, (3, 3), activation='relu'),\n",
    "    layers.MaxPooling2D(pool_size=(2, 2)),\n",
    "    layers.Conv2D(64, (3, 3), activation='relu'),\n",
    "    layers.MaxPooling2D(pool_size=(2, 2)),\n",
    "    layers.Conv2D(128, (3, 3), activation='relu'),\n",
    "    layers.MaxPooling2D(pool_size=(2, 2)),\n",
    "    layers.Flatten(),\n",
    "    layers.Dropout(0.5),\n",
    "    layers.Dense(128, activation='relu'),\n",
    "    layers.Dense(len(label_mapping), activation='softmax')  # 5 classes\n",
    "])"
   ]
  },
  {
   "cell_type": "code",
   "execution_count": 56,
   "id": "064b79a5-4524-413e-9a06-998998211ad4",
   "metadata": {},
   "outputs": [],
   "source": [
    "\n",
    "# Compile\n",
    "model.compile(optimizer='adam', loss='categorical_crossentropy', metrics=['accuracy'])\n"
   ]
  },
  {
   "cell_type": "code",
   "execution_count": 57,
   "id": "956a5dcc-a082-4e70-a23f-8fbc6bcc4a69",
   "metadata": {},
   "outputs": [
    {
     "name": "stderr",
     "output_type": "stream",
     "text": [
      "C:\\Users\\Suvodeep Banerjee\\anaconda3\\Lib\\site-packages\\keras\\src\\trainers\\data_adapters\\py_dataset_adapter.py:121: UserWarning: Your `PyDataset` class should call `super().__init__(**kwargs)` in its constructor. `**kwargs` can include `workers`, `use_multiprocessing`, `max_queue_size`. Do not pass these arguments to `fit()`, as they will be ignored.\n",
      "  self._warn_if_super_not_called()\n"
     ]
    },
    {
     "name": "stdout",
     "output_type": "stream",
     "text": [
      "Epoch 1/10\n",
      "\u001b[1m534/534\u001b[0m \u001b[32m━━━━━━━━━━━━━━━━━━━━\u001b[0m\u001b[37m\u001b[0m \u001b[1m299s\u001b[0m 554ms/step - accuracy: 0.6189 - loss: 1.1507 - val_accuracy: 0.6320 - val_loss: 1.0292\n",
      "Epoch 2/10\n",
      "\u001b[1m534/534\u001b[0m \u001b[32m━━━━━━━━━━━━━━━━━━━━\u001b[0m\u001b[37m\u001b[0m \u001b[1m0s\u001b[0m 315us/step - accuracy: 0.6875 - loss: 1.0766 - val_accuracy: 0.6250 - val_loss: 0.9535\n",
      "Epoch 3/10\n"
     ]
    },
    {
     "name": "stderr",
     "output_type": "stream",
     "text": [
      "C:\\Users\\Suvodeep Banerjee\\anaconda3\\Lib\\contextlib.py:158: UserWarning: Your input ran out of data; interrupting training. Make sure that your dataset or generator can generate at least `steps_per_epoch * epochs` batches. You may need to use the `.repeat()` function when building your dataset.\n",
      "  self.gen.throw(value)\n"
     ]
    },
    {
     "name": "stdout",
     "output_type": "stream",
     "text": [
      "\u001b[1m534/534\u001b[0m \u001b[32m━━━━━━━━━━━━━━━━━━━━\u001b[0m\u001b[37m\u001b[0m \u001b[1m294s\u001b[0m 550ms/step - accuracy: 0.6396 - loss: 1.0105 - val_accuracy: 0.6414 - val_loss: 1.0600\n",
      "Epoch 4/10\n",
      "\u001b[1m534/534\u001b[0m \u001b[32m━━━━━━━━━━━━━━━━━━━━\u001b[0m\u001b[37m\u001b[0m \u001b[1m0s\u001b[0m 280us/step - accuracy: 0.6562 - loss: 0.9941 - val_accuracy: 0.6250 - val_loss: 0.9168\n",
      "Epoch 5/10\n",
      "\u001b[1m534/534\u001b[0m \u001b[32m━━━━━━━━━━━━━━━━━━━━\u001b[0m\u001b[37m\u001b[0m \u001b[1m291s\u001b[0m 545ms/step - accuracy: 0.6421 - loss: 0.9834 - val_accuracy: 0.6574 - val_loss: 0.9486\n",
      "Epoch 6/10\n",
      "\u001b[1m534/534\u001b[0m \u001b[32m━━━━━━━━━━━━━━━━━━━━\u001b[0m\u001b[37m\u001b[0m \u001b[1m0s\u001b[0m 238us/step - accuracy: 0.8438 - loss: 0.6911 - val_accuracy: 0.6667 - val_loss: 0.9970\n",
      "Epoch 7/10\n",
      "\u001b[1m534/534\u001b[0m \u001b[32m━━━━━━━━━━━━━━━━━━━━\u001b[0m\u001b[37m\u001b[0m \u001b[1m303s\u001b[0m 567ms/step - accuracy: 0.6543 - loss: 0.9466 - val_accuracy: 0.6696 - val_loss: 0.9227\n",
      "Epoch 8/10\n",
      "\u001b[1m534/534\u001b[0m \u001b[32m━━━━━━━━━━━━━━━━━━━━\u001b[0m\u001b[37m\u001b[0m \u001b[1m0s\u001b[0m 371us/step - accuracy: 0.5938 - loss: 0.9130 - val_accuracy: 0.7500 - val_loss: 0.7754\n",
      "Epoch 9/10\n",
      "\u001b[1m534/534\u001b[0m \u001b[32m━━━━━━━━━━━━━━━━━━━━\u001b[0m\u001b[37m\u001b[0m \u001b[1m530s\u001b[0m 994ms/step - accuracy: 0.6636 - loss: 0.9115 - val_accuracy: 0.6711 - val_loss: 0.8956\n",
      "Epoch 10/10\n",
      "\u001b[1m534/534\u001b[0m \u001b[32m━━━━━━━━━━━━━━━━━━━━\u001b[0m\u001b[37m\u001b[0m \u001b[1m1s\u001b[0m 526us/step - accuracy: 0.8750 - loss: 0.4956 - val_accuracy: 0.7083 - val_loss: 0.9092\n"
     ]
    }
   ],
   "source": [
    "\n",
    "epochs = 10 \n",
    "history = model.fit(\n",
    "    train_generator,\n",
    "    validation_data=val_generator,\n",
    "    epochs=epochs,\n",
    "    steps_per_epoch=len(X_train) // 32,\n",
    "    validation_steps=len(X_val) // 32\n",
    ")"
   ]
  },
  {
   "cell_type": "code",
   "execution_count": 1,
   "id": "55622b2d-f752-4fc1-8bd8-0578476edaf8",
   "metadata": {},
   "outputs": [
    {
     "ename": "NameError",
     "evalue": "name 'model' is not defined",
     "output_type": "error",
     "traceback": [
      "\u001b[1;31m---------------------------------------------------------------------------\u001b[0m",
      "\u001b[1;31mNameError\u001b[0m                                 Traceback (most recent call last)",
      "Cell \u001b[1;32mIn[1], line 46\u001b[0m\n\u001b[0;32m     43\u001b[0m         plt\u001b[38;5;241m.\u001b[39mshow()\n\u001b[0;32m     45\u001b[0m \u001b[38;5;66;03m# Example usage for single image\u001b[39;00m\n\u001b[1;32m---> 46\u001b[0m predict_images(\u001b[38;5;124mr\u001b[39m\u001b[38;5;124m\"\u001b[39m\u001b[38;5;124mC:\u001b[39m\u001b[38;5;124m\\\u001b[39m\u001b[38;5;124mUsers\u001b[39m\u001b[38;5;124m\\\u001b[39m\u001b[38;5;124mSuvodeep Banerjee\u001b[39m\u001b[38;5;124m\\\u001b[39m\u001b[38;5;124mDownloads\u001b[39m\u001b[38;5;124m\\\u001b[39m\u001b[38;5;124mtest_images\u001b[39m\u001b[38;5;124m\\\u001b[39m\u001b[38;5;124mtest11.jpg\u001b[39m\u001b[38;5;124m\"\u001b[39m)\n",
      "Cell \u001b[1;32mIn[1], line 35\u001b[0m, in \u001b[0;36mpredict_images\u001b[1;34m(image_path_or_dir)\u001b[0m\n\u001b[0;32m     31\u001b[0m img_array \u001b[38;5;241m=\u001b[39m img_to_array(img) \u001b[38;5;241m/\u001b[39m \u001b[38;5;241m255.0\u001b[39m  \n\u001b[0;32m     32\u001b[0m img_array \u001b[38;5;241m=\u001b[39m np\u001b[38;5;241m.\u001b[39mexpand_dims(img_array, axis\u001b[38;5;241m=\u001b[39m\u001b[38;5;241m0\u001b[39m) \n\u001b[1;32m---> 35\u001b[0m prediction \u001b[38;5;241m=\u001b[39m model\u001b[38;5;241m.\u001b[39mpredict(img_array)\n\u001b[0;32m     36\u001b[0m predicted_class \u001b[38;5;241m=\u001b[39m np\u001b[38;5;241m.\u001b[39margmax(prediction, axis\u001b[38;5;241m=\u001b[39m\u001b[38;5;241m1\u001b[39m)[\u001b[38;5;241m0\u001b[39m]  \n\u001b[0;32m     37\u001b[0m predicted_label \u001b[38;5;241m=\u001b[39m label_mapping[predicted_class]\n",
      "\u001b[1;31mNameError\u001b[0m: name 'model' is not defined"
     ]
    }
   ],
   "source": [
    "import os\n",
    "import numpy as np\n",
    "import matplotlib.pyplot as plt\n",
    "from tensorflow.keras.preprocessing.image import load_img, img_to_array\n",
    "\n",
    "label_mapping = {\n",
    "    0: \"Cassava Bacterial Blight (CBB)\",\n",
    "    1: \"Cassava Brown Streak Disease (CBSD)\",\n",
    "    2: \"Cassava Green Mottle (CGM)\",\n",
    "    3: \"Cassava Mosaic Disease (CMD)\",\n",
    "    4: \"Healthy\"\n",
    "}\n",
    "\n",
    "def predict_images(image_path_or_dir):\n",
    "   \n",
    "    if os.path.isdir(image_path_or_dir):\n",
    "       \n",
    "        image_files = [f for f in os.listdir(image_path_or_dir) if f.endswith(('.png', '.jpg', '.jpeg'))]\n",
    "    else:\n",
    "        image_files = [image_path_or_dir]\n",
    "    \n",
    "    for image_file in image_files:\n",
    "        \n",
    "        if os.path.isdir(image_path_or_dir):\n",
    "            image_path = os.path.join(image_path_or_dir, image_file)\n",
    "        else:\n",
    "            image_path = image_file\n",
    "        \n",
    "       \n",
    "        img = load_img(image_path, target_size=(128, 128)) \n",
    "        img_array = img_to_array(img) / 255.0  \n",
    "        img_array = np.expand_dims(img_array, axis=0) \n",
    "\n",
    "       \n",
    "        prediction = model.predict(img_array)\n",
    "        predicted_class = np.argmax(prediction, axis=1)[0]  \n",
    "        predicted_label = label_mapping[predicted_class]\n",
    "\n",
    "        \n",
    "        plt.imshow(img)\n",
    "        plt.title(f'Predicted: {predicted_label}')\n",
    "        plt.axis('off')\n",
    "        plt.show()\n",
    "\n",
    "# Example usage for single image\n",
    "predict_images(r\"C:\\Users\\Suvodeep Banerjee\\Downloads\\test_images\\test11.jpg\")\n",
    "\n"
   ]
  },
  {
   "cell_type": "code",
   "execution_count": null,
   "id": "bd57ae86-50c1-464a-a3a1-f54d897473ec",
   "metadata": {},
   "outputs": [],
   "source": []
  },
  {
   "cell_type": "code",
   "execution_count": null,
   "id": "b5a50421-bd24-494e-9777-eadf6eb8d2e8",
   "metadata": {},
   "outputs": [],
   "source": []
  }
 ],
 "metadata": {
  "kernelspec": {
   "display_name": "Python 3 (ipykernel)",
   "language": "python",
   "name": "python3"
  },
  "language_info": {
   "codemirror_mode": {
    "name": "ipython",
    "version": 3
   },
   "file_extension": ".py",
   "mimetype": "text/x-python",
   "name": "python",
   "nbconvert_exporter": "python",
   "pygments_lexer": "ipython3",
   "version": "3.12.7"
  }
 },
 "nbformat": 4,
 "nbformat_minor": 5
}
